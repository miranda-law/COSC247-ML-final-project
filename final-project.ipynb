{
 "cells": [
  {
   "cell_type": "markdown",
   "id": "8f2bd048",
   "metadata": {},
   "source": [
    "# How post-game LoL stats affect the outcome of the game"
   ]
  },
  {
   "cell_type": "markdown",
   "id": "fb9911d1",
   "metadata": {},
   "source": [
    "### Description\n",
    "\n",
    "[League of Legends](https://en.wikipedia.org/wiki/League_of_Legends) is a multiple online battle arena (MOBA) video game that involves two teams of five players. Each team wins by destroying the enemy \"nexus\" located in the enemy base. Each player earns experience points (exp) and gold to give their character extra statistics in order to defeat the enemy. \n",
    "\n",
    "In this project, I will be classifying League of Legends games as either `win` or `loss` based on player game statistics at the end of the game, such as number of kills/deaths, gold earned, and damage dealt. I will explore how these different statistics in the game affect the outcome of these games. In particular, I will be looking at my own ranked solo/duo games under the summoner name `Mirinda`.  \n",
    "\n",
    "I will be obtaining my data through the [RiotAPI](https://developer.riotgames.com/apis). I will pull a list of matches and choose a particular player to view their statistics.\n",
    "\n",
    "In order to explore how different post-game statistics affect the outcome of the game, I will train multiple classifications models using different sets of features. The classification models are as follows:\n",
    "\n",
    "- Perceptron\n",
    "- Logistic regression\n",
    "- Decision tree\n",
    "- Random forest\n",
    "- Support vector machine with radial basis function kernel\n",
    "\n",
    "\n",
    "In each of these models, I will train 10 different models for each set of features. I will then test each model with 10 sets of testing data. I will record the accuracy of the trained models for different sets of features and compare the overall averages of each different model for each set of features."
   ]
  },
  {
   "cell_type": "code",
   "execution_count": 1,
   "id": "7fefbcaa",
   "metadata": {
    "code_folding": []
   },
   "outputs": [],
   "source": [
    "# imports\n",
    "import csv \n",
    "import numpy as np\n",
    "import os\n",
    "import pandas as pd\n",
    "from tabulate import tabulate"
   ]
  },
  {
   "cell_type": "markdown",
   "id": "ffbc9017",
   "metadata": {},
   "source": [
    "### The data\n",
    "\n",
    "I have obtained my data through the RiotAPI using a Python script with the `riotwatcher` package.  I pulled a list of 907 matches. Through each match, I iterated through each `participant` and pulled game results for `Mirinda`. I then wrote this data obtained onto a CSV file. \n",
    "\n",
    "Each match contains a list of 54 different statistics (see`df.columns`). These will be used as possible features."
   ]
  },
  {
   "cell_type": "code",
   "execution_count": 2,
   "id": "2d32e476",
   "metadata": {
    "collapsed": true
   },
   "outputs": [
    {
     "data": {
      "text/plain": [
       "Index(['assists', 'bountyLevel', 'champExperience', 'champLevel',\n",
       "       'consumablesPurchased', 'damageDealtToBuildings',\n",
       "       'damageDealtToObjectives', 'damageDealtToTurrets',\n",
       "       'damageSelfMitigated', 'deaths', 'detectorWardsPlaced', 'doubleKills',\n",
       "       'goldEarned', 'goldSpent', 'killingSprees', 'kills',\n",
       "       'largestCriticalStrike', 'largestKillingSpree', 'largestMultiKill',\n",
       "       'longestTimeSpentLiving', 'magicDamageDealt',\n",
       "       'magicDamageDealtToChampions', 'magicDamageTaken',\n",
       "       'neutralMinionsKilled', 'pentaKills', 'physicalDamageDealt',\n",
       "       'physicalDamageDealtToChampions', 'physicalDamageTaken', 'quadraKills',\n",
       "       'sightWardsBoughtInGame', 'spell1Casts', 'spell2Casts', 'spell3Casts',\n",
       "       'spell4Casts', 'timeCCingOthers', 'timePlayed', 'totalDamageDealt',\n",
       "       'totalDamageDealtToChampions', 'totalDamageShieldedOnTeammates',\n",
       "       'totalDamageTaken', 'totalHeal', 'totalHealsOnTeammates',\n",
       "       'totalMinionsKilled', 'totalTimeCCDealt', 'totalTimeSpentDead',\n",
       "       'totalUnitsHealed', 'tripleKills', 'trueDamageDealt',\n",
       "       'trueDamageDealtToChampions', 'trueDamageTaken', 'visionScore',\n",
       "       'visionWardsBoughtInGame', 'wardsKilled', 'wardsPlaced', 'win',\n",
       "       'matchID'],\n",
       "      dtype='object')"
      ]
     },
     "execution_count": 2,
     "metadata": {},
     "output_type": "execute_result"
    }
   ],
   "source": [
    "# read in data\n",
    "df = pd.read_csv('game-data.csv',\n",
    "                     encoding='utf-8')\n",
    "# possible features exluding `win` and `matchID`\n",
    "df.columns"
   ]
  },
  {
   "cell_type": "markdown",
   "id": "deb1ebcd",
   "metadata": {},
   "source": [
    "### Feature selections\n",
    "\n",
    "There are 7 sets of features I will be using to compare with one another:\n",
    "\n",
    "1. all features\n",
    "2. player combat -- offensive: 'largestCriticalStrike', 'magicDamageDealt','magicDamageDealtToChampions', 'physicalDamageDealt', 'physicalDamageDealtToChampions', 'totalDamageDealt', 'totalDamageDealtToChampions'\n",
    "3. player combat -- defensive: 'damageSelfMitigated', 'magicDamageTaken', 'physicalDamageTaken', 'totalDamageShieldedOnTeammates', 'totalDamageTaken', 'totalHeal', 'totalHealsOnTeammates', 'trueDamageTaken'\n",
    "4. player combat -- offensive AND defensive\n",
    "5. spell casts: 'spell1Casts', 'spell2Casts', 'spell3Casts', 'spell4Casts'\n",
    "6. KDA, kill streaks: 'assists', 'bountyLevel', 'deaths', 'doubleKills', 'killingSprees', 'kills', 'largestKillingSpree', 'largestMultiKill', 'pentaKills', 'quadraKills', 'tripleKills'\n",
    "7. vision: 'detectorWardsPlaced', 'sightWardsBoughtInGame', 'visionScore', 'visionWardsBoughtInGame', 'wardsKilled', 'wardsPlaced'"
   ]
  },
  {
   "cell_type": "code",
   "execution_count": 3,
   "id": "872af7c9",
   "metadata": {
    "code_folding": []
   },
   "outputs": [],
   "source": [
    "# features: all\n",
    "X_all = df.iloc[:, :54]\n",
    "X_all = np.array(X_all)\n",
    "\n",
    "# features: player combat -- offensive\n",
    "# 'largestCriticalStrike', 'magicDamageDealt','magicDamageDealtToChampions', 'physicalDamageDealt',\n",
    "# 'physicalDamageDealtToChampions', 'totalDamageDealt', 'totalDamageDealtToChampions'\n",
    "# 'trueDamageDealt', 'trueDamageDealtToChampions',\n",
    "X_pcombatOff = df.iloc[:, [16, 20, 21, 25, 26, 36, 37, 47, 48]]\n",
    "X_pcombatOff = np.array(X_pcombatOff)\n",
    "\n",
    "# features: player combat -- defensive\n",
    "# 'damageSelfMitigated', 'magicDamageTaken', 'physicalDamageTaken', 'totalDamageShieldedOnTeammates', 'totalDamageTaken', \n",
    "# 'totalHeal', 'totalHealsOnTeammates', 'trueDamageTaken'\n",
    "X_pcombatDef = df.iloc[:, [8, 22, 27, 38, 39, 40, 41, 49]]\n",
    "X_pcombatDef = np.array(X_pcombatDef)\n",
    "\n",
    "# features: player combat -- offensive AND defensive\n",
    "X_pcombat = df.iloc[:, [16, 20, 21, 25, 26, 36, 37, 47, 48, 8, 22, 27, 38, 39, 40, 41, 49]]\n",
    "X_pcombat = np.array(X_pcombat)\n",
    "\n",
    "# features: spell casts\n",
    "# 'spell1Casts', 'spell2Casts', 'spell3Casts','spell4Casts'\n",
    "X_spells = df.iloc[:, [30, 31, 32, 33]]\n",
    "X_spells = np.array(X_spells)\n",
    "\n",
    "# features: KDA, kill streaks\n",
    "# 'assists', 'bountyLevel', 'deaths', 'doubleKills', 'killingSprees', 'kills',\n",
    "# 'largestKillingSpree', 'largestMultiKill', 'pentaKills', 'quadraKills', 'tripleKills'\n",
    "X_kda = df.iloc[:, [0, 1, 9, 11, 14, 15, 17, 18, 24, 28, 46]]\n",
    "X_kda = np.array(X_kda)\n",
    "\n",
    "# features: vision\n",
    "# 'detectorWardsPlaced', 'sightWardsBoughtInGame', 'visionScore', 'visionWardsBoughtInGame', 'wardsKilled', 'wardsPlaced'\n",
    "X_vision = df.iloc[:, [10, 29, 50, 51, 52, 53]]\n",
    "X_vision = np.array(X_vision)\n",
    "\n",
    "# list of different sets of features\n",
    "features_list = [X_all, X_pcombatOff, X_pcombatDef, X_pcombat, X_spells, X_kda, X_vision]\n",
    "\n",
    "# classes\n",
    "y = df.iloc[:, 54].values\n",
    "# True = 1, False = 0\n",
    "y = np.where(y, 1, 0)"
   ]
  },
  {
   "cell_type": "markdown",
   "id": "f6b78a48",
   "metadata": {},
   "source": [
    "### Split data into training/testing sets"
   ]
  },
  {
   "cell_type": "code",
   "execution_count": 4,
   "id": "48e17531",
   "metadata": {
    "code_folding": [
     4,
     15
    ]
   },
   "outputs": [],
   "source": [
    "from sklearn.model_selection import train_test_split\n",
    "from sklearn.preprocessing import StandardScaler\n",
    "\n",
    "\"\"\"\n",
    "split_data(): split data into n sets of training and testing sets with a 70/30 split respectively, and standardize training set\n",
    "    input:\n",
    "        randomStart - start value\n",
    "        randomEnd - end value\n",
    "        features - set of features as an array\n",
    "        targets - classes\n",
    "    output:\n",
    "        dictionary of data splits:\n",
    "            dataSplits[random_state] = [X_train_std, X_test_std, y_train, y_test]\n",
    "\"\"\"\n",
    "\n",
    "def split_data(randomStart, randomEnd, features, targets):\n",
    "\n",
    "    # dataSplits[random_state] = [X_train_std, X_test_std, y_train, y_test]\n",
    "    dataSplits = {}\n",
    "    \n",
    "    for i in range(randomStart, randomEnd):\n",
    "        # Split data into testing and training \n",
    "        X_train, X_test, y_train, y_test = train_test_split(features, targets, test_size=0.3, random_state=i, stratify=targets)\n",
    "\n",
    "        # Standardize training set\n",
    "        sc = StandardScaler()\n",
    "        sc.fit(X_train)\n",
    "        X_train_std = sc.transform(X_train)\n",
    "        X_test_std = sc.transform(X_test)\n",
    "\n",
    "        # add split to dictionary\n",
    "        dataSplits[i] = [X_train_std, X_test_std, y_train, y_test]\n",
    "        \n",
    "    return dataSplits"
   ]
  },
  {
   "cell_type": "code",
   "execution_count": 5,
   "id": "88fb192d",
   "metadata": {},
   "outputs": [],
   "source": [
    "# Split data into training and testing\n",
    "X_all_split = split_data(1, 11, X_all, y)\n",
    "X_pcombatOff_split = split_data(1, 11, X_pcombatOff, y)\n",
    "X_pcombatDef_split = split_data(1, 11, X_pcombatDef, y)\n",
    "X_pcombat_split = split_data(1, 11, X_pcombat, y)\n",
    "X_spells_split = split_data(1, 11, X_spells, y)\n",
    "X_kda_split = split_data(1, 11, X_kda, y)\n",
    "X_vision_split = split_data(1, 11, X_vision, y)"
   ]
  },
  {
   "cell_type": "markdown",
   "id": "31d605d0",
   "metadata": {},
   "source": [
    "### Train Perceptron models\n",
    "\n"
   ]
  },
  {
   "cell_type": "code",
   "execution_count": 6,
   "id": "71e15c9b",
   "metadata": {
    "code_folding": [
     4,
     14
    ]
   },
   "outputs": [],
   "source": [
    "from sklearn.linear_model import Perceptron\n",
    "from sklearn.metrics import accuracy_score\n",
    "\n",
    "\"\"\"\n",
    "train_perceptrons(): train n different perceptron models and test each n times\n",
    "    input:\n",
    "        randomStart - start value\n",
    "        randomEnd - end value\n",
    "        dataSplits - dictionary of data splits\n",
    "    output:\n",
    "        dictionary of perceptron models:\n",
    "            ppns[Perceptron model] = [(Misclassified examples, Accuracy)...]\n",
    "\"\"\"\n",
    "\n",
    "def train_perceptrons(randomStart, randomEnd, dataSplits):\n",
    "        \n",
    "    # ppns[Perceptron model] = [(Misclassified examples, Accuracy)...]\n",
    "    ppns = {}\n",
    "\n",
    "    for randState in dataSplits:\n",
    "\n",
    "        # current testing and training split\n",
    "        currentSplit = dataSplits[randState]\n",
    "\n",
    "        # list of models for each random state\n",
    "        results = []\n",
    "\n",
    "        # Train Perceptron model\n",
    "        ppn = Perceptron(eta0=0.1, random_state=randState)\n",
    "        ppn.fit(currentSplit[0], currentSplit[2]) # X_train_std, y_train\n",
    "\n",
    "        # test Perceptron model x times\n",
    "        for i in range(randomStart, randomEnd):\n",
    "\n",
    "            # put results into dict\n",
    "            y_pred = ppn.predict(dataSplits[i][1]) # X_test_std\n",
    "\n",
    "            # append tuple (Misclassified examples, Accuracy) ==> (y_test != y_pred).sum(), accuracy_score(y_test, y_pred))\n",
    "            results.append(((dataSplits[i][3] != y_pred).sum(), accuracy_score(dataSplits[i][3], y_pred)))\n",
    "            \n",
    "        # append results to current perceptron dict\n",
    "        ppns[ppn] = results\n",
    "        \n",
    "    return ppns"
   ]
  },
  {
   "cell_type": "code",
   "execution_count": 7,
   "id": "ece4265e",
   "metadata": {
    "code_folding": [
     1,
     9
    ]
   },
   "outputs": [],
   "source": [
    "\"\"\"\n",
    "print_avgs(): print average misclassified examples and average accuracy\n",
    "    input:\n",
    "        model_dict - dictionary of models:\n",
    "            model_dict[model] = [(Misclassified examples, Accuracy)...]\n",
    "    output:\n",
    "        array containing average misclassified examples and average accuracy:\n",
    "            [average misclassified examples, average accuracy]\n",
    "\"\"\"\n",
    "def print_avgs(model_dict):\n",
    "    \n",
    "    total = len(model_dict)*len(model_dict[list(model_dict.keys())[0]])\n",
    "    sums = []\n",
    "    \n",
    "    for model in model_dict:\n",
    "        results = model_dict[model]\n",
    "        sums.append([sum(tup) for tup in zip(*results)])\n",
    "\n",
    "    final_list = [sum(value) for value in zip(*sums)]\n",
    "    final_list = [x / total for x in final_list]\n",
    "    \n",
    "    print('Avg misclassified examples: %d' % final_list[0])\n",
    "    print('Avg accuracy: %.3f' % final_list[1])\n",
    "    \n",
    "    return final_list"
   ]
  },
  {
   "cell_type": "markdown",
   "id": "983e86d2",
   "metadata": {},
   "source": [
    "### Train Perceptrons"
   ]
  },
  {
   "cell_type": "code",
   "execution_count": 8,
   "id": "97424c84",
   "metadata": {
    "scrolled": false
   },
   "outputs": [
    {
     "name": "stdout",
     "output_type": "stream",
     "text": [
      "Avg misclassified examples: 25\n",
      "Avg accuracy: 0.906\n"
     ]
    }
   ],
   "source": [
    "# train Perceptrons on all features\n",
    "ppns_all = train_perceptrons(1, 11, X_all_split)\n",
    "ppns_all_results = print_avgs(ppns_all)"
   ]
  },
  {
   "cell_type": "code",
   "execution_count": 9,
   "id": "5ebb3473",
   "metadata": {
    "scrolled": true
   },
   "outputs": [
    {
     "name": "stdout",
     "output_type": "stream",
     "text": [
      "Avg misclassified examples: 125\n",
      "Avg accuracy: 0.538\n"
     ]
    }
   ],
   "source": [
    "# train Perceptrons on player combat -- offensive\n",
    "ppns_pcombatOff = train_perceptrons(1, 11, X_pcombatOff_split)\n",
    "ppns_pcombatOff_results = print_avgs(ppns_pcombatOff)"
   ]
  },
  {
   "cell_type": "code",
   "execution_count": 10,
   "id": "cd01b960",
   "metadata": {},
   "outputs": [
    {
     "name": "stdout",
     "output_type": "stream",
     "text": [
      "Avg misclassified examples: 94\n",
      "Avg accuracy: 0.652\n"
     ]
    }
   ],
   "source": [
    "# train Perceptrons on player combat -- defensive\n",
    "ppns_pcombatDef = train_perceptrons(1, 11, X_pcombatDef_split)\n",
    "ppns_pcombatDef_results = print_avgs(ppns_pcombatDef)"
   ]
  },
  {
   "cell_type": "code",
   "execution_count": 11,
   "id": "5b868ad8",
   "metadata": {},
   "outputs": [
    {
     "name": "stdout",
     "output_type": "stream",
     "text": [
      "Avg misclassified examples: 78\n",
      "Avg accuracy: 0.712\n"
     ]
    }
   ],
   "source": [
    "# train Perceptrons on player combat -- both\n",
    "ppns_pcombat = train_perceptrons(1, 11, X_pcombat_split)\n",
    "ppns_pcombat_results = print_avgs(ppns_pcombat)"
   ]
  },
  {
   "cell_type": "code",
   "execution_count": 12,
   "id": "19ffefdf",
   "metadata": {
    "scrolled": true
   },
   "outputs": [
    {
     "name": "stdout",
     "output_type": "stream",
     "text": [
      "Avg misclassified examples: 131\n",
      "Avg accuracy: 0.517\n"
     ]
    }
   ],
   "source": [
    "# train Perceptrons on spell casts\n",
    "ppns_spells = train_perceptrons(1, 11, X_spells_split)\n",
    "ppns_spells_results = print_avgs(ppns_spells)"
   ]
  },
  {
   "cell_type": "code",
   "execution_count": 13,
   "id": "e30d5ba5",
   "metadata": {},
   "outputs": [
    {
     "name": "stdout",
     "output_type": "stream",
     "text": [
      "Avg misclassified examples: 51\n",
      "Avg accuracy: 0.812\n"
     ]
    }
   ],
   "source": [
    "# train Perceptrons on kda/killing sprees\n",
    "ppns_kda = train_perceptrons(1, 11, X_kda_split)\n",
    "ppns_kda_results = print_avgs(ppns_kda)"
   ]
  },
  {
   "cell_type": "code",
   "execution_count": 14,
   "id": "625dbf71",
   "metadata": {},
   "outputs": [
    {
     "name": "stdout",
     "output_type": "stream",
     "text": [
      "Avg misclassified examples: 118\n",
      "Avg accuracy: 0.566\n"
     ]
    }
   ],
   "source": [
    "# train Perceptrons on vision\n",
    "ppns_vision = train_perceptrons(1, 11, X_vision_split)\n",
    "ppns_vision_results = print_avgs(ppns_vision)"
   ]
  },
  {
   "cell_type": "markdown",
   "id": "c9ba1a22",
   "metadata": {},
   "source": [
    "### Perceptron results"
   ]
  },
  {
   "cell_type": "code",
   "execution_count": 15,
   "id": "1452c941",
   "metadata": {},
   "outputs": [
    {
     "data": {
      "text/html": [
       "<div>\n",
       "<style scoped>\n",
       "    .dataframe tbody tr th:only-of-type {\n",
       "        vertical-align: middle;\n",
       "    }\n",
       "\n",
       "    .dataframe tbody tr th {\n",
       "        vertical-align: top;\n",
       "    }\n",
       "\n",
       "    .dataframe thead th {\n",
       "        text-align: right;\n",
       "    }\n",
       "</style>\n",
       "<table border=\"1\" class=\"dataframe\">\n",
       "  <thead>\n",
       "    <tr style=\"text-align: right;\">\n",
       "      <th></th>\n",
       "      <th>Avg misclassified examples</th>\n",
       "      <th>Avg accuracy</th>\n",
       "    </tr>\n",
       "  </thead>\n",
       "  <tbody>\n",
       "    <tr>\n",
       "      <th>All features</th>\n",
       "      <td>25.54</td>\n",
       "      <td>0.906447</td>\n",
       "    </tr>\n",
       "    <tr>\n",
       "      <th>KDA/kill streaks</th>\n",
       "      <td>51.45</td>\n",
       "      <td>0.811538</td>\n",
       "    </tr>\n",
       "    <tr>\n",
       "      <th>Player combat</th>\n",
       "      <td>78.53</td>\n",
       "      <td>0.712344</td>\n",
       "    </tr>\n",
       "    <tr>\n",
       "      <th>Player combat (defensive)</th>\n",
       "      <td>94.95</td>\n",
       "      <td>0.652198</td>\n",
       "    </tr>\n",
       "    <tr>\n",
       "      <th>Vision</th>\n",
       "      <td>118.48</td>\n",
       "      <td>0.566007</td>\n",
       "    </tr>\n",
       "    <tr>\n",
       "      <th>Player combat (offensive)</th>\n",
       "      <td>125.99</td>\n",
       "      <td>0.538498</td>\n",
       "    </tr>\n",
       "    <tr>\n",
       "      <th>Spells casted</th>\n",
       "      <td>131.79</td>\n",
       "      <td>0.517253</td>\n",
       "    </tr>\n",
       "  </tbody>\n",
       "</table>\n",
       "</div>"
      ],
      "text/plain": [
       "                           Avg misclassified examples  Avg accuracy\n",
       "All features                                    25.54      0.906447\n",
       "KDA/kill streaks                                51.45      0.811538\n",
       "Player combat                                   78.53      0.712344\n",
       "Player combat (defensive)                       94.95      0.652198\n",
       "Vision                                         118.48      0.566007\n",
       "Player combat (offensive)                      125.99      0.538498\n",
       "Spells casted                                  131.79      0.517253"
      ]
     },
     "execution_count": 15,
     "metadata": {},
     "output_type": "execute_result"
    }
   ],
   "source": [
    "features_about =  [\"All features\", \"Player combat (offensive)\", \"Player combat (defensive)\",\n",
    "                  \"Player combat\", \"Spells casted\", \"KDA/kill streaks\", \"Vision\"]\n",
    "ppn_results_list = [ppns_all_results, ppns_pcombatOff_results, ppns_pcombatDef_results, \n",
    "                  ppns_pcombat_results, ppns_spells_results, ppns_kda_results, ppns_vision_results]\n",
    "\n",
    "ppn_results = pd.DataFrame(ppn_results_list, index = features_about, columns = [\"Avg misclassified examples\", \"Avg accuracy\"])\n",
    "ppn_results = ppn_results.sort_values(by=[\"Avg accuracy\"], ascending=False)\n",
    "ppn_results"
   ]
  },
  {
   "cell_type": "markdown",
   "id": "dcb30a84",
   "metadata": {},
   "source": [
    "### Train logistic regression"
   ]
  },
  {
   "cell_type": "code",
   "execution_count": 36,
   "id": "2de1fa2b",
   "metadata": {
    "code_folding": [
     3,
     12
    ]
   },
   "outputs": [],
   "source": [
    "from sklearn.linear_model import LogisticRegression\n",
    "\n",
    "\"\"\"\n",
    "train_lrGDs(): train n different logistic regression GD models and test each n times\n",
    "    input:\n",
    "        randomStart - start value\n",
    "        randomEnd - end value\n",
    "        dataSplits - dictionary of data splits\n",
    "    output:\n",
    "        dictionary of logistic regression GD models:\n",
    "            lrGDs[logistic regression GD model] = [(Misclassified examples, Accuracy)...]\n",
    "\"\"\"\n",
    "def train_lrGDs(randomStart, randomEnd, dataSplits):\n",
    "        \n",
    "    # lrGDs[logistic regression GD model] = [(Misclassified examples, Accuracy)...]\n",
    "    lrGDs = {}\n",
    "\n",
    "    for randState in dataSplits:\n",
    "\n",
    "        # current testing and training split\n",
    "        currentSplit = dataSplits[randState]\n",
    "\n",
    "        # list of models for each random state\n",
    "        results = []\n",
    "\n",
    "        # Train logistic regression GD model\n",
    "        lrGD = LogisticRegression(random_state=randState)\n",
    "        lrGD.fit(currentSplit[0], currentSplit[2]) # X_train_std, y_train\n",
    "\n",
    "        # test logistic regression GD model x times\n",
    "        for i in range(randomStart, randomEnd):\n",
    "\n",
    "            # put results into dict\n",
    "            y_pred = lrGD.predict(dataSplits[i][1]) # X_test_std\n",
    "\n",
    "            # append tuple (Misclassified examples, Accuracy) ==> (y_test != y_pred).sum(), accuracy_score(y_test, y_pred))\n",
    "            results.append(((dataSplits[i][3] != y_pred).sum(), accuracy_score(dataSplits[i][3], y_pred)))\n",
    "            \n",
    "        # append results to current perceptron dict\n",
    "        lrGDs[lrGD] = results\n",
    "        \n",
    "    return lrGDs"
   ]
  },
  {
   "cell_type": "code",
   "execution_count": 37,
   "id": "ce0c2712",
   "metadata": {
    "scrolled": true
   },
   "outputs": [
    {
     "name": "stdout",
     "output_type": "stream",
     "text": [
      "Avg misclassified examples: 16\n",
      "Avg accuracy: 0.941\n"
     ]
    }
   ],
   "source": [
    "# train logistic regression GD on all features\n",
    "lrGDs_all = train_lrGDs(1, 11, X_all_split)\n",
    "lrGDs_all_results = print_avgs(lrGDs_all)"
   ]
  },
  {
   "cell_type": "code",
   "execution_count": 38,
   "id": "52c26a78",
   "metadata": {
    "scrolled": false
   },
   "outputs": [
    {
     "name": "stdout",
     "output_type": "stream",
     "text": [
      "Avg misclassified examples: 115\n",
      "Avg accuracy: 0.578\n"
     ]
    }
   ],
   "source": [
    "# train logistic regression GD on player combat -- offensive\n",
    "lrGDs_pcombatOff = train_lrGDs(1, 11, X_pcombatOff_split)\n",
    "lrGDs_pcombatOff_results = print_avgs(lrGDs_pcombatOff)"
   ]
  },
  {
   "cell_type": "code",
   "execution_count": 39,
   "id": "1d3eaa94",
   "metadata": {},
   "outputs": [
    {
     "name": "stdout",
     "output_type": "stream",
     "text": [
      "Avg misclassified examples: 64\n",
      "Avg accuracy: 0.762\n"
     ]
    }
   ],
   "source": [
    "# train logistic regression GD on player combat -- defensive\n",
    "lrGDs_pcombatDef = train_lrGDs(1, 11, X_pcombatDef_split)\n",
    "lrGDs_pcombatDef_results = print_avgs(lrGDs_pcombatDef)"
   ]
  },
  {
   "cell_type": "code",
   "execution_count": 40,
   "id": "5cdee781",
   "metadata": {},
   "outputs": [
    {
     "name": "stdout",
     "output_type": "stream",
     "text": [
      "Avg misclassified examples: 59\n",
      "Avg accuracy: 0.782\n"
     ]
    }
   ],
   "source": [
    "# train logistic regression GD on player combat -- both\n",
    "lrGDs_pcombat = train_lrGDs(1, 11, X_pcombat_split)\n",
    "lrGDs_pcombat_results = print_avgs(lrGDs_pcombat)"
   ]
  },
  {
   "cell_type": "code",
   "execution_count": 41,
   "id": "5d23ac4e",
   "metadata": {
    "scrolled": true
   },
   "outputs": [
    {
     "name": "stdout",
     "output_type": "stream",
     "text": [
      "Avg misclassified examples: 117\n",
      "Avg accuracy: 0.570\n"
     ]
    }
   ],
   "source": [
    "# train logistic regression GD on spell casts\n",
    "lrGDs_spells = train_lrGDs(1, 11, X_spells_split)\n",
    "lrGDs_spells_results = print_avgs(lrGDs_spells)"
   ]
  },
  {
   "cell_type": "code",
   "execution_count": 42,
   "id": "da5d9d58",
   "metadata": {},
   "outputs": [
    {
     "name": "stdout",
     "output_type": "stream",
     "text": [
      "Avg misclassified examples: 36\n",
      "Avg accuracy: 0.866\n"
     ]
    }
   ],
   "source": [
    "# train logistic regression GD on kda/killing sprees\n",
    "lrGDs_kda = train_lrGDs(1, 11, X_kda_split)\n",
    "lrGDs_kda_results = print_avgs(lrGDs_kda)"
   ]
  },
  {
   "cell_type": "code",
   "execution_count": 43,
   "id": "bc9939c1",
   "metadata": {},
   "outputs": [
    {
     "name": "stdout",
     "output_type": "stream",
     "text": [
      "Avg misclassified examples: 95\n",
      "Avg accuracy: 0.649\n"
     ]
    }
   ],
   "source": [
    "# train logistic regression GD on vision\n",
    "lrGDs_vision = train_lrGDs(1, 11, X_vision_split)\n",
    "lrGDs_vision_results = print_avgs(lrGDs_vision)"
   ]
  },
  {
   "cell_type": "markdown",
   "id": "ce09ab50",
   "metadata": {},
   "source": [
    "### Logistic regression GD results"
   ]
  },
  {
   "cell_type": "code",
   "execution_count": 44,
   "id": "59c845a4",
   "metadata": {},
   "outputs": [
    {
     "data": {
      "text/html": [
       "<div>\n",
       "<style scoped>\n",
       "    .dataframe tbody tr th:only-of-type {\n",
       "        vertical-align: middle;\n",
       "    }\n",
       "\n",
       "    .dataframe tbody tr th {\n",
       "        vertical-align: top;\n",
       "    }\n",
       "\n",
       "    .dataframe thead th {\n",
       "        text-align: right;\n",
       "    }\n",
       "</style>\n",
       "<table border=\"1\" class=\"dataframe\">\n",
       "  <thead>\n",
       "    <tr style=\"text-align: right;\">\n",
       "      <th></th>\n",
       "      <th>Avg misclassified examples</th>\n",
       "      <th>Avg accuracy</th>\n",
       "    </tr>\n",
       "  </thead>\n",
       "  <tbody>\n",
       "    <tr>\n",
       "      <th>All features</th>\n",
       "      <td>16.09</td>\n",
       "      <td>0.941062</td>\n",
       "    </tr>\n",
       "    <tr>\n",
       "      <th>KDA/kill streaks</th>\n",
       "      <td>36.55</td>\n",
       "      <td>0.866117</td>\n",
       "    </tr>\n",
       "    <tr>\n",
       "      <th>Player combat</th>\n",
       "      <td>59.44</td>\n",
       "      <td>0.782271</td>\n",
       "    </tr>\n",
       "    <tr>\n",
       "      <th>Player combat (defensive)</th>\n",
       "      <td>64.87</td>\n",
       "      <td>0.762381</td>\n",
       "    </tr>\n",
       "    <tr>\n",
       "      <th>Vision</th>\n",
       "      <td>95.80</td>\n",
       "      <td>0.649084</td>\n",
       "    </tr>\n",
       "    <tr>\n",
       "      <th>Player combat (offensive)</th>\n",
       "      <td>115.30</td>\n",
       "      <td>0.577656</td>\n",
       "    </tr>\n",
       "    <tr>\n",
       "      <th>Spells casted</th>\n",
       "      <td>117.45</td>\n",
       "      <td>0.569780</td>\n",
       "    </tr>\n",
       "  </tbody>\n",
       "</table>\n",
       "</div>"
      ],
      "text/plain": [
       "                           Avg misclassified examples  Avg accuracy\n",
       "All features                                    16.09      0.941062\n",
       "KDA/kill streaks                                36.55      0.866117\n",
       "Player combat                                   59.44      0.782271\n",
       "Player combat (defensive)                       64.87      0.762381\n",
       "Vision                                          95.80      0.649084\n",
       "Player combat (offensive)                      115.30      0.577656\n",
       "Spells casted                                  117.45      0.569780"
      ]
     },
     "execution_count": 44,
     "metadata": {},
     "output_type": "execute_result"
    }
   ],
   "source": [
    "lrGD_results_list = [lrGDs_all_results, lrGDs_pcombatOff_results, lrGDs_pcombatDef_results, \n",
    "                  lrGDs_pcombat_results, lrGDs_spells_results, lrGDs_kda_results, lrGDs_vision_results]\n",
    "\n",
    "lrGD_results = pd.DataFrame(lrGD_results_list, index = features_about, columns = [\"Avg misclassified examples\", \"Avg accuracy\"])\n",
    "lrGD_results = lrGD_results.sort_values(by=[\"Avg accuracy\"], ascending=False)\n",
    "lrGD_results"
   ]
  },
  {
   "cell_type": "markdown",
   "id": "35f25796",
   "metadata": {},
   "source": [
    "### Train decision tree"
   ]
  },
  {
   "cell_type": "code",
   "execution_count": 45,
   "id": "eddc767d",
   "metadata": {
    "code_folding": [
     3,
     12
    ]
   },
   "outputs": [],
   "source": [
    "from sklearn.tree import DecisionTreeClassifier\n",
    "\n",
    "\"\"\"\n",
    "train_dts(): train n different decision tree models and test each n times\n",
    "    input:\n",
    "        randomStart - start value\n",
    "        randomEnd - end value\n",
    "        dataSplits - dictionary of data splits\n",
    "    output:\n",
    "        dictionary of decision tree models:\n",
    "            dts[decision tree model] = [(Misclassified examples, Accuracy)...]\n",
    "\"\"\"\n",
    "def train_dts(randomStart, randomEnd, dataSplits):\n",
    "        \n",
    "    # dts[decision tree model] = [(Misclassified examples, Accuracy)...]\n",
    "    dts = {}\n",
    "\n",
    "    for randState in dataSplits:\n",
    "\n",
    "        # current testing and training split\n",
    "        currentSplit = dataSplits[randState]\n",
    "\n",
    "        # list of models for each random state\n",
    "        results = []\n",
    "\n",
    "        # Train decision tree model\n",
    "        dt = DecisionTreeClassifier(random_state=randState)\n",
    "        dt.fit(currentSplit[0], currentSplit[2]) # X_train_std, y_train\n",
    "\n",
    "        # test decision tree model x times\n",
    "        for i in range(randomStart, randomEnd):\n",
    "\n",
    "            # put results into dict\n",
    "            y_pred = dt.predict(dataSplits[i][1]) # X_test_std\n",
    "\n",
    "            # append tuple (Misclassified examples, Accuracy) ==> (y_test != y_pred).sum(), accuracy_score(y_test, y_pred))\n",
    "            results.append(((dataSplits[i][3] != y_pred).sum(), accuracy_score(dataSplits[i][3], y_pred)))\n",
    "            \n",
    "        # append results to current perceptron dict\n",
    "        dts[dt] = results\n",
    "        \n",
    "    return dts"
   ]
  },
  {
   "cell_type": "code",
   "execution_count": 47,
   "id": "eb582852",
   "metadata": {
    "scrolled": true
   },
   "outputs": [
    {
     "name": "stdout",
     "output_type": "stream",
     "text": [
      "Avg misclassified examples: 23\n",
      "Avg accuracy: 0.916\n"
     ]
    }
   ],
   "source": [
    "# train decision tree on all features\n",
    "dts_all = train_dts(1, 11, X_all_split)\n",
    "dts_all_results = print_avgs(dts_all)"
   ]
  },
  {
   "cell_type": "code",
   "execution_count": 48,
   "id": "19d321b4",
   "metadata": {
    "scrolled": false
   },
   "outputs": [
    {
     "name": "stdout",
     "output_type": "stream",
     "text": [
      "Avg misclassified examples: 88\n",
      "Avg accuracy: 0.674\n"
     ]
    }
   ],
   "source": [
    "# train decision tree on player combat -- offensive\n",
    "dts_pcombatOff = train_dts(1, 11, X_pcombatOff_split)\n",
    "dts_pcombatOff_results = print_avgs(dts_pcombatOff)"
   ]
  },
  {
   "cell_type": "code",
   "execution_count": 49,
   "id": "9ef23f57",
   "metadata": {},
   "outputs": [
    {
     "name": "stdout",
     "output_type": "stream",
     "text": [
      "Avg misclassified examples: 56\n",
      "Avg accuracy: 0.794\n"
     ]
    }
   ],
   "source": [
    "# train decision tree on player combat -- defensive\n",
    "dts_pcombatDef = train_dts(1, 11, X_pcombatDef_split)\n",
    "dts_pcombatDef_results = print_avgs(dts_pcombatDef)"
   ]
  },
  {
   "cell_type": "code",
   "execution_count": 50,
   "id": "892fb454",
   "metadata": {},
   "outputs": [
    {
     "name": "stdout",
     "output_type": "stream",
     "text": [
      "Avg misclassified examples: 55\n",
      "Avg accuracy: 0.796\n"
     ]
    }
   ],
   "source": [
    "# train decision tree on player combat -- both\n",
    "dts_pcombat = train_dts(1, 11, X_pcombat_split)\n",
    "dts_pcombat_results = print_avgs(dts_pcombat)"
   ]
  },
  {
   "cell_type": "code",
   "execution_count": 51,
   "id": "a4528293",
   "metadata": {
    "scrolled": true
   },
   "outputs": [
    {
     "name": "stdout",
     "output_type": "stream",
     "text": [
      "Avg misclassified examples: 79\n",
      "Avg accuracy: 0.710\n"
     ]
    }
   ],
   "source": [
    "# train decision tree on spell casts\n",
    "dts_spells = train_dts(1, 11, X_spells_split)\n",
    "dts_spells_results = print_avgs(dts_spells)"
   ]
  },
  {
   "cell_type": "code",
   "execution_count": 52,
   "id": "7a330983",
   "metadata": {
    "scrolled": true
   },
   "outputs": [
    {
     "name": "stdout",
     "output_type": "stream",
     "text": [
      "Avg misclassified examples: 26\n",
      "Avg accuracy: 0.903\n"
     ]
    }
   ],
   "source": [
    "# train decision tree on kda/killing sprees\n",
    "dts_kda = train_dts(1, 11, X_kda_split)\n",
    "dts_kda_results = print_avgs(dts_kda)"
   ]
  },
  {
   "cell_type": "code",
   "execution_count": 53,
   "id": "195dfcfa",
   "metadata": {},
   "outputs": [
    {
     "name": "stdout",
     "output_type": "stream",
     "text": [
      "Avg misclassified examples: 55\n",
      "Avg accuracy: 0.796\n"
     ]
    }
   ],
   "source": [
    "# train decision tree on vision\n",
    "dts_vision = train_dts(1, 11, X_vision_split)\n",
    "dts_vision_results = print_avgs(dts_vision)"
   ]
  },
  {
   "cell_type": "markdown",
   "id": "9afa9f60",
   "metadata": {},
   "source": [
    "### Decision tree results"
   ]
  },
  {
   "cell_type": "code",
   "execution_count": 54,
   "id": "5fabb214",
   "metadata": {
    "scrolled": false
   },
   "outputs": [
    {
     "data": {
      "text/html": [
       "<div>\n",
       "<style scoped>\n",
       "    .dataframe tbody tr th:only-of-type {\n",
       "        vertical-align: middle;\n",
       "    }\n",
       "\n",
       "    .dataframe tbody tr th {\n",
       "        vertical-align: top;\n",
       "    }\n",
       "\n",
       "    .dataframe thead th {\n",
       "        text-align: right;\n",
       "    }\n",
       "</style>\n",
       "<table border=\"1\" class=\"dataframe\">\n",
       "  <thead>\n",
       "    <tr style=\"text-align: right;\">\n",
       "      <th></th>\n",
       "      <th>Avg misclassified examples</th>\n",
       "      <th>Avg accuracy</th>\n",
       "    </tr>\n",
       "  </thead>\n",
       "  <tbody>\n",
       "    <tr>\n",
       "      <th>All features</th>\n",
       "      <td>23.00</td>\n",
       "      <td>0.915751</td>\n",
       "    </tr>\n",
       "    <tr>\n",
       "      <th>KDA/kill streaks</th>\n",
       "      <td>26.41</td>\n",
       "      <td>0.903260</td>\n",
       "    </tr>\n",
       "    <tr>\n",
       "      <th>Vision</th>\n",
       "      <td>55.60</td>\n",
       "      <td>0.796337</td>\n",
       "    </tr>\n",
       "    <tr>\n",
       "      <th>Player combat</th>\n",
       "      <td>55.67</td>\n",
       "      <td>0.796081</td>\n",
       "    </tr>\n",
       "    <tr>\n",
       "      <th>Player combat (defensive)</th>\n",
       "      <td>56.20</td>\n",
       "      <td>0.794139</td>\n",
       "    </tr>\n",
       "    <tr>\n",
       "      <th>Spells casted</th>\n",
       "      <td>79.21</td>\n",
       "      <td>0.709853</td>\n",
       "    </tr>\n",
       "    <tr>\n",
       "      <th>Player combat (offensive)</th>\n",
       "      <td>88.95</td>\n",
       "      <td>0.674176</td>\n",
       "    </tr>\n",
       "  </tbody>\n",
       "</table>\n",
       "</div>"
      ],
      "text/plain": [
       "                           Avg misclassified examples  Avg accuracy\n",
       "All features                                    23.00      0.915751\n",
       "KDA/kill streaks                                26.41      0.903260\n",
       "Vision                                          55.60      0.796337\n",
       "Player combat                                   55.67      0.796081\n",
       "Player combat (defensive)                       56.20      0.794139\n",
       "Spells casted                                   79.21      0.709853\n",
       "Player combat (offensive)                       88.95      0.674176"
      ]
     },
     "execution_count": 54,
     "metadata": {},
     "output_type": "execute_result"
    }
   ],
   "source": [
    "dt_results_list = [dts_all_results, dts_pcombatOff_results, dts_pcombatDef_results, \n",
    "                  dts_pcombat_results, dts_spells_results, dts_kda_results, dts_vision_results]\n",
    "\n",
    "dt_results = pd.DataFrame(dt_results_list, index = features_about, columns = [\"Avg misclassified examples\", \"Avg accuracy\"])\n",
    "dt_results = dt_results.sort_values(by=[\"Avg accuracy\"], ascending=False)\n",
    "dt_results"
   ]
  },
  {
   "cell_type": "markdown",
   "id": "c2f5929c",
   "metadata": {},
   "source": [
    "### Train random forest"
   ]
  },
  {
   "cell_type": "code",
   "execution_count": 55,
   "id": "55846649",
   "metadata": {
    "code_folding": [
     3,
     12
    ]
   },
   "outputs": [],
   "source": [
    "from sklearn.ensemble import RandomForestClassifier\n",
    "\n",
    "\"\"\"\n",
    "train_rfs(): train n different random forest models and test each n times\n",
    "    input:\n",
    "        randomStart - start value\n",
    "        randomEnd - end value\n",
    "        dataSplits - dictionary of data splits\n",
    "    output:\n",
    "        dictionary of random forest models:\n",
    "            rfs[random forest model] = [(Misclassified examples, Accuracy)...]\n",
    "\"\"\"\n",
    "def train_rfs(randomStart, randomEnd, dataSplits):\n",
    "        \n",
    "    # rfs[random forest model] = [(Misclassified examples, Accuracy)...]\n",
    "    rfs = {}\n",
    "\n",
    "    for randState in dataSplits:\n",
    "\n",
    "        # current testing and training split\n",
    "        currentSplit = dataSplits[randState]\n",
    "\n",
    "        # list of models for each random state\n",
    "        results = []\n",
    "\n",
    "        # Train random forest model\n",
    "        rf = RandomForestClassifier(random_state=randState)\n",
    "        rf.fit(currentSplit[0], currentSplit[2]) # X_train_std, y_train\n",
    "\n",
    "        # test random forest model x times\n",
    "        for i in range(randomStart, randomEnd):\n",
    "\n",
    "            # put results into dict\n",
    "            y_pred = rf.predict(dataSplits[i][1]) # X_test_std\n",
    "\n",
    "            # append tuple (Misclassified examples, Accuracy) ==> (y_test != y_pred).sum(), accuracy_score(y_test, y_pred))\n",
    "            results.append(((dataSplits[i][3] != y_pred).sum(), accuracy_score(dataSplits[i][3], y_pred)))\n",
    "            \n",
    "        # append results to current perceptron dict\n",
    "        rfs[rf] = results\n",
    "        \n",
    "    return rfs"
   ]
  },
  {
   "cell_type": "code",
   "execution_count": 56,
   "id": "68640c18",
   "metadata": {
    "scrolled": true
   },
   "outputs": [
    {
     "name": "stdout",
     "output_type": "stream",
     "text": [
      "Avg misclassified examples: 12\n",
      "Avg accuracy: 0.955\n"
     ]
    }
   ],
   "source": [
    "# train random forest on all features\n",
    "rfs_all = train_rfs(1, 11, X_all_split)\n",
    "rfs_all_results = print_avgs(rfs_all)"
   ]
  },
  {
   "cell_type": "code",
   "execution_count": 57,
   "id": "71c8aa2d",
   "metadata": {
    "scrolled": false
   },
   "outputs": [
    {
     "name": "stdout",
     "output_type": "stream",
     "text": [
      "Avg misclassified examples: 61\n",
      "Avg accuracy: 0.775\n"
     ]
    }
   ],
   "source": [
    "# train random forest on player combat -- offensive\n",
    "rfs_pcombatOff = train_rfs(1, 11, X_pcombatOff_split)\n",
    "rfs_pcombatOff_results = print_avgs(rfs_pcombatOff)"
   ]
  },
  {
   "cell_type": "code",
   "execution_count": 58,
   "id": "0563e3bf",
   "metadata": {},
   "outputs": [
    {
     "name": "stdout",
     "output_type": "stream",
     "text": [
      "Avg misclassified examples: 35\n",
      "Avg accuracy: 0.871\n"
     ]
    }
   ],
   "source": [
    "# train random forest on player combat -- defensive\n",
    "rfs_pcombatDef = train_rfs(1, 11, X_pcombatDef_split)\n",
    "rfs_pcombatDef_results = print_avgs(rfs_pcombatDef)"
   ]
  },
  {
   "cell_type": "code",
   "execution_count": 59,
   "id": "c6a95d1d",
   "metadata": {},
   "outputs": [
    {
     "name": "stdout",
     "output_type": "stream",
     "text": [
      "Avg misclassified examples: 30\n",
      "Avg accuracy: 0.890\n"
     ]
    }
   ],
   "source": [
    "# train random forest on player combat -- both\n",
    "rfs_pcombat = train_rfs(1, 11, X_pcombat_split)\n",
    "rfs_pcombat_results = print_avgs(rfs_pcombat)"
   ]
  },
  {
   "cell_type": "code",
   "execution_count": 60,
   "id": "5849cedf",
   "metadata": {
    "scrolled": true
   },
   "outputs": [
    {
     "name": "stdout",
     "output_type": "stream",
     "text": [
      "Avg misclassified examples: 63\n",
      "Avg accuracy: 0.767\n"
     ]
    }
   ],
   "source": [
    "# train random forest on spell casts\n",
    "rfs_spells = train_rfs(1, 11, X_spells_split)\n",
    "rfs_spells_results = print_avgs(rfs_spells)"
   ]
  },
  {
   "cell_type": "code",
   "execution_count": 61,
   "id": "17e0c0ae",
   "metadata": {},
   "outputs": [
    {
     "name": "stdout",
     "output_type": "stream",
     "text": [
      "Avg misclassified examples: 23\n",
      "Avg accuracy: 0.914\n"
     ]
    }
   ],
   "source": [
    "# train random forest on kda/killing sprees\n",
    "rfs_kda = train_rfs(1, 11, X_kda_split)\n",
    "rfs_kda_results = print_avgs(rfs_kda)"
   ]
  },
  {
   "cell_type": "code",
   "execution_count": 62,
   "id": "486a6da4",
   "metadata": {},
   "outputs": [
    {
     "name": "stdout",
     "output_type": "stream",
     "text": [
      "Avg misclassified examples: 44\n",
      "Avg accuracy: 0.836\n"
     ]
    }
   ],
   "source": [
    "# train random forest on vision\n",
    "rfs_vision = train_rfs(1, 11, X_vision_split)\n",
    "rfs_vision_results = print_avgs(rfs_vision)"
   ]
  },
  {
   "cell_type": "markdown",
   "id": "4a0abf7b",
   "metadata": {},
   "source": [
    "### Random forest results"
   ]
  },
  {
   "cell_type": "code",
   "execution_count": 63,
   "id": "71453b5d",
   "metadata": {
    "scrolled": false
   },
   "outputs": [
    {
     "data": {
      "text/html": [
       "<div>\n",
       "<style scoped>\n",
       "    .dataframe tbody tr th:only-of-type {\n",
       "        vertical-align: middle;\n",
       "    }\n",
       "\n",
       "    .dataframe tbody tr th {\n",
       "        vertical-align: top;\n",
       "    }\n",
       "\n",
       "    .dataframe thead th {\n",
       "        text-align: right;\n",
       "    }\n",
       "</style>\n",
       "<table border=\"1\" class=\"dataframe\">\n",
       "  <thead>\n",
       "    <tr style=\"text-align: right;\">\n",
       "      <th></th>\n",
       "      <th>Avg misclassified examples</th>\n",
       "      <th>Avg accuracy</th>\n",
       "    </tr>\n",
       "  </thead>\n",
       "  <tbody>\n",
       "    <tr>\n",
       "      <th>All features</th>\n",
       "      <td>12.20</td>\n",
       "      <td>0.955311</td>\n",
       "    </tr>\n",
       "    <tr>\n",
       "      <th>KDA/kill streaks</th>\n",
       "      <td>23.59</td>\n",
       "      <td>0.913590</td>\n",
       "    </tr>\n",
       "    <tr>\n",
       "      <th>Player combat</th>\n",
       "      <td>30.03</td>\n",
       "      <td>0.890000</td>\n",
       "    </tr>\n",
       "    <tr>\n",
       "      <th>Player combat (defensive)</th>\n",
       "      <td>35.16</td>\n",
       "      <td>0.871209</td>\n",
       "    </tr>\n",
       "    <tr>\n",
       "      <th>Vision</th>\n",
       "      <td>44.86</td>\n",
       "      <td>0.835678</td>\n",
       "    </tr>\n",
       "    <tr>\n",
       "      <th>Player combat (offensive)</th>\n",
       "      <td>61.53</td>\n",
       "      <td>0.774615</td>\n",
       "    </tr>\n",
       "    <tr>\n",
       "      <th>Spells casted</th>\n",
       "      <td>63.69</td>\n",
       "      <td>0.766703</td>\n",
       "    </tr>\n",
       "  </tbody>\n",
       "</table>\n",
       "</div>"
      ],
      "text/plain": [
       "                           Avg misclassified examples  Avg accuracy\n",
       "All features                                    12.20      0.955311\n",
       "KDA/kill streaks                                23.59      0.913590\n",
       "Player combat                                   30.03      0.890000\n",
       "Player combat (defensive)                       35.16      0.871209\n",
       "Vision                                          44.86      0.835678\n",
       "Player combat (offensive)                       61.53      0.774615\n",
       "Spells casted                                   63.69      0.766703"
      ]
     },
     "execution_count": 63,
     "metadata": {},
     "output_type": "execute_result"
    }
   ],
   "source": [
    "rf_results_list = [rfs_all_results, rfs_pcombatOff_results, rfs_pcombatDef_results, \n",
    "                  rfs_pcombat_results, rfs_spells_results, rfs_kda_results, rfs_vision_results]\n",
    "\n",
    "rf_results = pd.DataFrame(rf_results_list, index = features_about, columns = [\"Avg misclassified examples\", \"Avg accuracy\"])\n",
    "rf_results = rf_results.sort_values(by=[\"Avg accuracy\"], ascending=False)\n",
    "rf_results"
   ]
  },
  {
   "cell_type": "markdown",
   "id": "e343d748",
   "metadata": {},
   "source": [
    "### Train support vector machine (SVM) with radial basis function (rbf) kernel"
   ]
  },
  {
   "cell_type": "code",
   "execution_count": 64,
   "id": "a669587c",
   "metadata": {
    "code_folding": [
     3,
     12
    ]
   },
   "outputs": [],
   "source": [
    "from sklearn.svm import SVC\n",
    "\n",
    "\"\"\"\n",
    "train_svms(): train n different SVM models and test each n times\n",
    "    input:\n",
    "        randomStart - start value\n",
    "        randomEnd - end value\n",
    "        dataSplits - dictionary of data splits\n",
    "    output:\n",
    "        dictionary of SVM models:\n",
    "            SVMs[SVM model] = [(Misclassified examples, Accuracy)...]\n",
    "\"\"\"\n",
    "def train_svms(randomStart, randomEnd, dataSplits):\n",
    "        \n",
    "    # svms[SVM model] = [(Misclassified examples, Accuracy)...]\n",
    "    svms = {}\n",
    "\n",
    "    for randState in dataSplits:\n",
    "\n",
    "        # current testing and training split\n",
    "        currentSplit = dataSplits[randState]\n",
    "\n",
    "        # list of models for each random state\n",
    "        results = []\n",
    "\n",
    "        # Train random forest model\n",
    "        svm = SVC(random_state=randState)\n",
    "        svm.fit(currentSplit[0], currentSplit[2]) # X_train_std, y_train\n",
    "\n",
    "        # test random forest model x times\n",
    "        for i in range(randomStart, randomEnd):\n",
    "\n",
    "            # put results into dict\n",
    "            y_pred = svm.predict(dataSplits[i][1]) # X_test_std\n",
    "\n",
    "            # append tuple (Misclassified examples, Accuracy) ==> (y_test != y_pred).sum(), accuracy_score(y_test, y_pred))\n",
    "            results.append(((dataSplits[i][3] != y_pred).sum(), accuracy_score(dataSplits[i][3], y_pred)))\n",
    "            \n",
    "        # append results to current perceptron dict\n",
    "        svms[svm] = results\n",
    "        \n",
    "    return svms"
   ]
  },
  {
   "cell_type": "code",
   "execution_count": 65,
   "id": "ea8167d7",
   "metadata": {
    "scrolled": true
   },
   "outputs": [
    {
     "name": "stdout",
     "output_type": "stream",
     "text": [
      "Avg misclassified examples: 19\n",
      "Avg accuracy: 0.930\n"
     ]
    }
   ],
   "source": [
    "# train SVM on all features\n",
    "svms_all = train_svms(1, 11, X_all_split)\n",
    "svms_all_results = print_avgs(svms_all)"
   ]
  },
  {
   "cell_type": "code",
   "execution_count": 66,
   "id": "fdd60c4a",
   "metadata": {
    "scrolled": false
   },
   "outputs": [
    {
     "name": "stdout",
     "output_type": "stream",
     "text": [
      "Avg misclassified examples: 104\n",
      "Avg accuracy: 0.616\n"
     ]
    }
   ],
   "source": [
    "# train SVM on player combat -- offensive\n",
    "svms_pcombatOff = train_svms(1, 11, X_pcombatOff_split)\n",
    "svms_pcombatOff_results = print_avgs(svms_pcombatOff)"
   ]
  },
  {
   "cell_type": "code",
   "execution_count": 67,
   "id": "ea40ff32",
   "metadata": {},
   "outputs": [
    {
     "name": "stdout",
     "output_type": "stream",
     "text": [
      "Avg misclassified examples: 65\n",
      "Avg accuracy: 0.761\n"
     ]
    }
   ],
   "source": [
    "# train SVM on player combat -- defensive\n",
    "svms_pcombatDef = train_svms(1, 11, X_pcombatDef_split)\n",
    "svms_pcombatDef_results = print_avgs(svms_pcombatDef)"
   ]
  },
  {
   "cell_type": "code",
   "execution_count": 68,
   "id": "8feec2ef",
   "metadata": {},
   "outputs": [
    {
     "name": "stdout",
     "output_type": "stream",
     "text": [
      "Avg misclassified examples: 56\n",
      "Avg accuracy: 0.793\n"
     ]
    }
   ],
   "source": [
    "# train SVM on player combat -- both\n",
    "svms_pcombat = train_svms(1, 11, X_pcombat_split)\n",
    "svms_pcombat_results = print_avgs(svms_pcombat)"
   ]
  },
  {
   "cell_type": "code",
   "execution_count": 69,
   "id": "e39ce88c",
   "metadata": {
    "scrolled": true
   },
   "outputs": [
    {
     "name": "stdout",
     "output_type": "stream",
     "text": [
      "Avg misclassified examples: 110\n",
      "Avg accuracy: 0.596\n"
     ]
    }
   ],
   "source": [
    "# train SVM on spell casts\n",
    "svms_spells = train_svms(1, 11, X_spells_split)\n",
    "svms_spells_results = print_avgs(svms_spells)"
   ]
  },
  {
   "cell_type": "code",
   "execution_count": 70,
   "id": "bab11105",
   "metadata": {},
   "outputs": [
    {
     "name": "stdout",
     "output_type": "stream",
     "text": [
      "Avg misclassified examples: 35\n",
      "Avg accuracy: 0.870\n"
     ]
    }
   ],
   "source": [
    "# train SVM on kda/killing sprees\n",
    "svms_kda = train_svms(1, 11, X_kda_split)\n",
    "svms_kda_results = print_avgs(svms_kda)"
   ]
  },
  {
   "cell_type": "code",
   "execution_count": 71,
   "id": "b95f9a6e",
   "metadata": {},
   "outputs": [
    {
     "name": "stdout",
     "output_type": "stream",
     "text": [
      "Avg misclassified examples: 92\n",
      "Avg accuracy: 0.662\n"
     ]
    }
   ],
   "source": [
    "# train random forest on vision\n",
    "svms_vision = train_svms(1, 11, X_vision_split)\n",
    "svms_vision_results = print_avgs(svms_vision)"
   ]
  },
  {
   "cell_type": "markdown",
   "id": "4f0110b4",
   "metadata": {},
   "source": [
    "### SVM results"
   ]
  },
  {
   "cell_type": "code",
   "execution_count": 72,
   "id": "cdd5ac26",
   "metadata": {
    "code_folding": [
     0
    ],
    "collapsed": true
   },
   "outputs": [
    {
     "data": {
      "text/html": [
       "<div>\n",
       "<style scoped>\n",
       "    .dataframe tbody tr th:only-of-type {\n",
       "        vertical-align: middle;\n",
       "    }\n",
       "\n",
       "    .dataframe tbody tr th {\n",
       "        vertical-align: top;\n",
       "    }\n",
       "\n",
       "    .dataframe thead th {\n",
       "        text-align: right;\n",
       "    }\n",
       "</style>\n",
       "<table border=\"1\" class=\"dataframe\">\n",
       "  <thead>\n",
       "    <tr style=\"text-align: right;\">\n",
       "      <th></th>\n",
       "      <th>Avg misclassified examples</th>\n",
       "      <th>Avg accuracy</th>\n",
       "    </tr>\n",
       "  </thead>\n",
       "  <tbody>\n",
       "    <tr>\n",
       "      <th>All features</th>\n",
       "      <td>19.21</td>\n",
       "      <td>0.929634</td>\n",
       "    </tr>\n",
       "    <tr>\n",
       "      <th>KDA/kill streaks</th>\n",
       "      <td>35.54</td>\n",
       "      <td>0.869817</td>\n",
       "    </tr>\n",
       "    <tr>\n",
       "      <th>Player combat</th>\n",
       "      <td>56.39</td>\n",
       "      <td>0.793443</td>\n",
       "    </tr>\n",
       "    <tr>\n",
       "      <th>Player combat (defensive)</th>\n",
       "      <td>65.23</td>\n",
       "      <td>0.761062</td>\n",
       "    </tr>\n",
       "    <tr>\n",
       "      <th>Vision</th>\n",
       "      <td>92.35</td>\n",
       "      <td>0.661722</td>\n",
       "    </tr>\n",
       "    <tr>\n",
       "      <th>Player combat (offensive)</th>\n",
       "      <td>104.85</td>\n",
       "      <td>0.615934</td>\n",
       "    </tr>\n",
       "    <tr>\n",
       "      <th>Spells casted</th>\n",
       "      <td>110.42</td>\n",
       "      <td>0.595531</td>\n",
       "    </tr>\n",
       "  </tbody>\n",
       "</table>\n",
       "</div>"
      ],
      "text/plain": [
       "                           Avg misclassified examples  Avg accuracy\n",
       "All features                                    19.21      0.929634\n",
       "KDA/kill streaks                                35.54      0.869817\n",
       "Player combat                                   56.39      0.793443\n",
       "Player combat (defensive)                       65.23      0.761062\n",
       "Vision                                          92.35      0.661722\n",
       "Player combat (offensive)                      104.85      0.615934\n",
       "Spells casted                                  110.42      0.595531"
      ]
     },
     "execution_count": 72,
     "metadata": {},
     "output_type": "execute_result"
    }
   ],
   "source": [
    "svm_results_list = [svms_all_results, svms_pcombatOff_results, svms_pcombatDef_results, \n",
    "                  svms_pcombat_results, svms_spells_results, svms_kda_results, svms_vision_results]\n",
    "\n",
    "svm_results = pd.DataFrame(svm_results_list, index = features_about, columns = [\"Avg misclassified examples\", \"Avg accuracy\"])\n",
    "svm_results = svm_results.sort_values(by=[\"Avg accuracy\"], ascending=False)\n",
    "svm_results"
   ]
  },
  {
   "cell_type": "markdown",
   "id": "d21c3f5b",
   "metadata": {},
   "source": [
    "### Summary of results"
   ]
  },
  {
   "cell_type": "markdown",
   "id": "73a02efd",
   "metadata": {},
   "source": [
    "The results from all 5 different models (perceptron, logistic regression, decision tree, random forest, SVM) are shown below and are sorted by average accuracy."
   ]
  },
  {
   "cell_type": "code",
   "execution_count": 76,
   "id": "15b877b3",
   "metadata": {},
   "outputs": [
    {
     "data": {
      "text/html": [
       "<style type=\"text/css\">\n",
       "</style>\n",
       "<table id=\"T_2508d\">\n",
       "  <caption>Perceptron</caption>\n",
       "  <thead>\n",
       "    <tr>\n",
       "      <th class=\"blank level0\" >&nbsp;</th>\n",
       "      <th id=\"T_2508d_level0_col0\" class=\"col_heading level0 col0\" >Avg misclassified examples</th>\n",
       "      <th id=\"T_2508d_level0_col1\" class=\"col_heading level0 col1\" >Avg accuracy</th>\n",
       "    </tr>\n",
       "  </thead>\n",
       "  <tbody>\n",
       "    <tr>\n",
       "      <th id=\"T_2508d_level0_row0\" class=\"row_heading level0 row0\" >All features</th>\n",
       "      <td id=\"T_2508d_row0_col0\" class=\"data row0 col0\" >25.540000</td>\n",
       "      <td id=\"T_2508d_row0_col1\" class=\"data row0 col1\" >0.906447</td>\n",
       "    </tr>\n",
       "    <tr>\n",
       "      <th id=\"T_2508d_level0_row1\" class=\"row_heading level0 row1\" >KDA/kill streaks</th>\n",
       "      <td id=\"T_2508d_row1_col0\" class=\"data row1 col0\" >51.450000</td>\n",
       "      <td id=\"T_2508d_row1_col1\" class=\"data row1 col1\" >0.811538</td>\n",
       "    </tr>\n",
       "    <tr>\n",
       "      <th id=\"T_2508d_level0_row2\" class=\"row_heading level0 row2\" >Player combat</th>\n",
       "      <td id=\"T_2508d_row2_col0\" class=\"data row2 col0\" >78.530000</td>\n",
       "      <td id=\"T_2508d_row2_col1\" class=\"data row2 col1\" >0.712344</td>\n",
       "    </tr>\n",
       "    <tr>\n",
       "      <th id=\"T_2508d_level0_row3\" class=\"row_heading level0 row3\" >Player combat (defensive)</th>\n",
       "      <td id=\"T_2508d_row3_col0\" class=\"data row3 col0\" >94.950000</td>\n",
       "      <td id=\"T_2508d_row3_col1\" class=\"data row3 col1\" >0.652198</td>\n",
       "    </tr>\n",
       "    <tr>\n",
       "      <th id=\"T_2508d_level0_row4\" class=\"row_heading level0 row4\" >Vision</th>\n",
       "      <td id=\"T_2508d_row4_col0\" class=\"data row4 col0\" >118.480000</td>\n",
       "      <td id=\"T_2508d_row4_col1\" class=\"data row4 col1\" >0.566007</td>\n",
       "    </tr>\n",
       "    <tr>\n",
       "      <th id=\"T_2508d_level0_row5\" class=\"row_heading level0 row5\" >Player combat (offensive)</th>\n",
       "      <td id=\"T_2508d_row5_col0\" class=\"data row5 col0\" >125.990000</td>\n",
       "      <td id=\"T_2508d_row5_col1\" class=\"data row5 col1\" >0.538498</td>\n",
       "    </tr>\n",
       "    <tr>\n",
       "      <th id=\"T_2508d_level0_row6\" class=\"row_heading level0 row6\" >Spells casted</th>\n",
       "      <td id=\"T_2508d_row6_col0\" class=\"data row6 col0\" >131.790000</td>\n",
       "      <td id=\"T_2508d_row6_col1\" class=\"data row6 col1\" >0.517253</td>\n",
       "    </tr>\n",
       "  </tbody>\n",
       "</table>\n"
      ],
      "text/plain": [
       "<pandas.io.formats.style.Styler at 0x1b1c7355700>"
      ]
     },
     "execution_count": 76,
     "metadata": {},
     "output_type": "execute_result"
    }
   ],
   "source": [
    "# Perceptron\n",
    "ppn_results.style.set_caption('Perceptron')"
   ]
  },
  {
   "cell_type": "code",
   "execution_count": 77,
   "id": "a04133e3",
   "metadata": {},
   "outputs": [
    {
     "data": {
      "text/html": [
       "<style type=\"text/css\">\n",
       "</style>\n",
       "<table id=\"T_34774\">\n",
       "  <caption>Logistic Regression</caption>\n",
       "  <thead>\n",
       "    <tr>\n",
       "      <th class=\"blank level0\" >&nbsp;</th>\n",
       "      <th id=\"T_34774_level0_col0\" class=\"col_heading level0 col0\" >Avg misclassified examples</th>\n",
       "      <th id=\"T_34774_level0_col1\" class=\"col_heading level0 col1\" >Avg accuracy</th>\n",
       "    </tr>\n",
       "  </thead>\n",
       "  <tbody>\n",
       "    <tr>\n",
       "      <th id=\"T_34774_level0_row0\" class=\"row_heading level0 row0\" >All features</th>\n",
       "      <td id=\"T_34774_row0_col0\" class=\"data row0 col0\" >16.090000</td>\n",
       "      <td id=\"T_34774_row0_col1\" class=\"data row0 col1\" >0.941062</td>\n",
       "    </tr>\n",
       "    <tr>\n",
       "      <th id=\"T_34774_level0_row1\" class=\"row_heading level0 row1\" >KDA/kill streaks</th>\n",
       "      <td id=\"T_34774_row1_col0\" class=\"data row1 col0\" >36.550000</td>\n",
       "      <td id=\"T_34774_row1_col1\" class=\"data row1 col1\" >0.866117</td>\n",
       "    </tr>\n",
       "    <tr>\n",
       "      <th id=\"T_34774_level0_row2\" class=\"row_heading level0 row2\" >Player combat</th>\n",
       "      <td id=\"T_34774_row2_col0\" class=\"data row2 col0\" >59.440000</td>\n",
       "      <td id=\"T_34774_row2_col1\" class=\"data row2 col1\" >0.782271</td>\n",
       "    </tr>\n",
       "    <tr>\n",
       "      <th id=\"T_34774_level0_row3\" class=\"row_heading level0 row3\" >Player combat (defensive)</th>\n",
       "      <td id=\"T_34774_row3_col0\" class=\"data row3 col0\" >64.870000</td>\n",
       "      <td id=\"T_34774_row3_col1\" class=\"data row3 col1\" >0.762381</td>\n",
       "    </tr>\n",
       "    <tr>\n",
       "      <th id=\"T_34774_level0_row4\" class=\"row_heading level0 row4\" >Vision</th>\n",
       "      <td id=\"T_34774_row4_col0\" class=\"data row4 col0\" >95.800000</td>\n",
       "      <td id=\"T_34774_row4_col1\" class=\"data row4 col1\" >0.649084</td>\n",
       "    </tr>\n",
       "    <tr>\n",
       "      <th id=\"T_34774_level0_row5\" class=\"row_heading level0 row5\" >Player combat (offensive)</th>\n",
       "      <td id=\"T_34774_row5_col0\" class=\"data row5 col0\" >115.300000</td>\n",
       "      <td id=\"T_34774_row5_col1\" class=\"data row5 col1\" >0.577656</td>\n",
       "    </tr>\n",
       "    <tr>\n",
       "      <th id=\"T_34774_level0_row6\" class=\"row_heading level0 row6\" >Spells casted</th>\n",
       "      <td id=\"T_34774_row6_col0\" class=\"data row6 col0\" >117.450000</td>\n",
       "      <td id=\"T_34774_row6_col1\" class=\"data row6 col1\" >0.569780</td>\n",
       "    </tr>\n",
       "  </tbody>\n",
       "</table>\n"
      ],
      "text/plain": [
       "<pandas.io.formats.style.Styler at 0x1b1c7355e50>"
      ]
     },
     "execution_count": 77,
     "metadata": {},
     "output_type": "execute_result"
    }
   ],
   "source": [
    "# Logistic regression\n",
    "lrGD_results.style.set_caption('Logistic Regression')"
   ]
  },
  {
   "cell_type": "code",
   "execution_count": 78,
   "id": "e426a6a2",
   "metadata": {},
   "outputs": [
    {
     "data": {
      "text/html": [
       "<style type=\"text/css\">\n",
       "</style>\n",
       "<table id=\"T_401f1\">\n",
       "  <caption>Decision tree</caption>\n",
       "  <thead>\n",
       "    <tr>\n",
       "      <th class=\"blank level0\" >&nbsp;</th>\n",
       "      <th id=\"T_401f1_level0_col0\" class=\"col_heading level0 col0\" >Avg misclassified examples</th>\n",
       "      <th id=\"T_401f1_level0_col1\" class=\"col_heading level0 col1\" >Avg accuracy</th>\n",
       "    </tr>\n",
       "  </thead>\n",
       "  <tbody>\n",
       "    <tr>\n",
       "      <th id=\"T_401f1_level0_row0\" class=\"row_heading level0 row0\" >All features</th>\n",
       "      <td id=\"T_401f1_row0_col0\" class=\"data row0 col0\" >23.000000</td>\n",
       "      <td id=\"T_401f1_row0_col1\" class=\"data row0 col1\" >0.915751</td>\n",
       "    </tr>\n",
       "    <tr>\n",
       "      <th id=\"T_401f1_level0_row1\" class=\"row_heading level0 row1\" >KDA/kill streaks</th>\n",
       "      <td id=\"T_401f1_row1_col0\" class=\"data row1 col0\" >26.410000</td>\n",
       "      <td id=\"T_401f1_row1_col1\" class=\"data row1 col1\" >0.903260</td>\n",
       "    </tr>\n",
       "    <tr>\n",
       "      <th id=\"T_401f1_level0_row2\" class=\"row_heading level0 row2\" >Vision</th>\n",
       "      <td id=\"T_401f1_row2_col0\" class=\"data row2 col0\" >55.600000</td>\n",
       "      <td id=\"T_401f1_row2_col1\" class=\"data row2 col1\" >0.796337</td>\n",
       "    </tr>\n",
       "    <tr>\n",
       "      <th id=\"T_401f1_level0_row3\" class=\"row_heading level0 row3\" >Player combat</th>\n",
       "      <td id=\"T_401f1_row3_col0\" class=\"data row3 col0\" >55.670000</td>\n",
       "      <td id=\"T_401f1_row3_col1\" class=\"data row3 col1\" >0.796081</td>\n",
       "    </tr>\n",
       "    <tr>\n",
       "      <th id=\"T_401f1_level0_row4\" class=\"row_heading level0 row4\" >Player combat (defensive)</th>\n",
       "      <td id=\"T_401f1_row4_col0\" class=\"data row4 col0\" >56.200000</td>\n",
       "      <td id=\"T_401f1_row4_col1\" class=\"data row4 col1\" >0.794139</td>\n",
       "    </tr>\n",
       "    <tr>\n",
       "      <th id=\"T_401f1_level0_row5\" class=\"row_heading level0 row5\" >Spells casted</th>\n",
       "      <td id=\"T_401f1_row5_col0\" class=\"data row5 col0\" >79.210000</td>\n",
       "      <td id=\"T_401f1_row5_col1\" class=\"data row5 col1\" >0.709853</td>\n",
       "    </tr>\n",
       "    <tr>\n",
       "      <th id=\"T_401f1_level0_row6\" class=\"row_heading level0 row6\" >Player combat (offensive)</th>\n",
       "      <td id=\"T_401f1_row6_col0\" class=\"data row6 col0\" >88.950000</td>\n",
       "      <td id=\"T_401f1_row6_col1\" class=\"data row6 col1\" >0.674176</td>\n",
       "    </tr>\n",
       "  </tbody>\n",
       "</table>\n"
      ],
      "text/plain": [
       "<pandas.io.formats.style.Styler at 0x1b1beebdee0>"
      ]
     },
     "execution_count": 78,
     "metadata": {},
     "output_type": "execute_result"
    }
   ],
   "source": [
    "# Decision tree\n",
    "dt_results.style.set_caption('Decision tree')"
   ]
  },
  {
   "cell_type": "code",
   "execution_count": 79,
   "id": "0f13e58c",
   "metadata": {
    "collapsed": true
   },
   "outputs": [
    {
     "data": {
      "text/html": [
       "<style type=\"text/css\">\n",
       "</style>\n",
       "<table id=\"T_11824\">\n",
       "  <caption>Random forest</caption>\n",
       "  <thead>\n",
       "    <tr>\n",
       "      <th class=\"blank level0\" >&nbsp;</th>\n",
       "      <th id=\"T_11824_level0_col0\" class=\"col_heading level0 col0\" >Avg misclassified examples</th>\n",
       "      <th id=\"T_11824_level0_col1\" class=\"col_heading level0 col1\" >Avg accuracy</th>\n",
       "    </tr>\n",
       "  </thead>\n",
       "  <tbody>\n",
       "    <tr>\n",
       "      <th id=\"T_11824_level0_row0\" class=\"row_heading level0 row0\" >All features</th>\n",
       "      <td id=\"T_11824_row0_col0\" class=\"data row0 col0\" >12.200000</td>\n",
       "      <td id=\"T_11824_row0_col1\" class=\"data row0 col1\" >0.955311</td>\n",
       "    </tr>\n",
       "    <tr>\n",
       "      <th id=\"T_11824_level0_row1\" class=\"row_heading level0 row1\" >KDA/kill streaks</th>\n",
       "      <td id=\"T_11824_row1_col0\" class=\"data row1 col0\" >23.590000</td>\n",
       "      <td id=\"T_11824_row1_col1\" class=\"data row1 col1\" >0.913590</td>\n",
       "    </tr>\n",
       "    <tr>\n",
       "      <th id=\"T_11824_level0_row2\" class=\"row_heading level0 row2\" >Player combat</th>\n",
       "      <td id=\"T_11824_row2_col0\" class=\"data row2 col0\" >30.030000</td>\n",
       "      <td id=\"T_11824_row2_col1\" class=\"data row2 col1\" >0.890000</td>\n",
       "    </tr>\n",
       "    <tr>\n",
       "      <th id=\"T_11824_level0_row3\" class=\"row_heading level0 row3\" >Player combat (defensive)</th>\n",
       "      <td id=\"T_11824_row3_col0\" class=\"data row3 col0\" >35.160000</td>\n",
       "      <td id=\"T_11824_row3_col1\" class=\"data row3 col1\" >0.871209</td>\n",
       "    </tr>\n",
       "    <tr>\n",
       "      <th id=\"T_11824_level0_row4\" class=\"row_heading level0 row4\" >Vision</th>\n",
       "      <td id=\"T_11824_row4_col0\" class=\"data row4 col0\" >44.860000</td>\n",
       "      <td id=\"T_11824_row4_col1\" class=\"data row4 col1\" >0.835678</td>\n",
       "    </tr>\n",
       "    <tr>\n",
       "      <th id=\"T_11824_level0_row5\" class=\"row_heading level0 row5\" >Player combat (offensive)</th>\n",
       "      <td id=\"T_11824_row5_col0\" class=\"data row5 col0\" >61.530000</td>\n",
       "      <td id=\"T_11824_row5_col1\" class=\"data row5 col1\" >0.774615</td>\n",
       "    </tr>\n",
       "    <tr>\n",
       "      <th id=\"T_11824_level0_row6\" class=\"row_heading level0 row6\" >Spells casted</th>\n",
       "      <td id=\"T_11824_row6_col0\" class=\"data row6 col0\" >63.690000</td>\n",
       "      <td id=\"T_11824_row6_col1\" class=\"data row6 col1\" >0.766703</td>\n",
       "    </tr>\n",
       "  </tbody>\n",
       "</table>\n"
      ],
      "text/plain": [
       "<pandas.io.formats.style.Styler at 0x1b1c91c0fd0>"
      ]
     },
     "execution_count": 79,
     "metadata": {},
     "output_type": "execute_result"
    }
   ],
   "source": [
    "# Random forest\n",
    "rf_results.style.set_caption('Random forest')"
   ]
  },
  {
   "cell_type": "code",
   "execution_count": 80,
   "id": "dfbf2771",
   "metadata": {},
   "outputs": [
    {
     "data": {
      "text/html": [
       "<style type=\"text/css\">\n",
       "</style>\n",
       "<table id=\"T_975cd\">\n",
       "  <caption>SVM</caption>\n",
       "  <thead>\n",
       "    <tr>\n",
       "      <th class=\"blank level0\" >&nbsp;</th>\n",
       "      <th id=\"T_975cd_level0_col0\" class=\"col_heading level0 col0\" >Avg misclassified examples</th>\n",
       "      <th id=\"T_975cd_level0_col1\" class=\"col_heading level0 col1\" >Avg accuracy</th>\n",
       "    </tr>\n",
       "  </thead>\n",
       "  <tbody>\n",
       "    <tr>\n",
       "      <th id=\"T_975cd_level0_row0\" class=\"row_heading level0 row0\" >All features</th>\n",
       "      <td id=\"T_975cd_row0_col0\" class=\"data row0 col0\" >19.210000</td>\n",
       "      <td id=\"T_975cd_row0_col1\" class=\"data row0 col1\" >0.929634</td>\n",
       "    </tr>\n",
       "    <tr>\n",
       "      <th id=\"T_975cd_level0_row1\" class=\"row_heading level0 row1\" >KDA/kill streaks</th>\n",
       "      <td id=\"T_975cd_row1_col0\" class=\"data row1 col0\" >35.540000</td>\n",
       "      <td id=\"T_975cd_row1_col1\" class=\"data row1 col1\" >0.869817</td>\n",
       "    </tr>\n",
       "    <tr>\n",
       "      <th id=\"T_975cd_level0_row2\" class=\"row_heading level0 row2\" >Player combat</th>\n",
       "      <td id=\"T_975cd_row2_col0\" class=\"data row2 col0\" >56.390000</td>\n",
       "      <td id=\"T_975cd_row2_col1\" class=\"data row2 col1\" >0.793443</td>\n",
       "    </tr>\n",
       "    <tr>\n",
       "      <th id=\"T_975cd_level0_row3\" class=\"row_heading level0 row3\" >Player combat (defensive)</th>\n",
       "      <td id=\"T_975cd_row3_col0\" class=\"data row3 col0\" >65.230000</td>\n",
       "      <td id=\"T_975cd_row3_col1\" class=\"data row3 col1\" >0.761062</td>\n",
       "    </tr>\n",
       "    <tr>\n",
       "      <th id=\"T_975cd_level0_row4\" class=\"row_heading level0 row4\" >Vision</th>\n",
       "      <td id=\"T_975cd_row4_col0\" class=\"data row4 col0\" >92.350000</td>\n",
       "      <td id=\"T_975cd_row4_col1\" class=\"data row4 col1\" >0.661722</td>\n",
       "    </tr>\n",
       "    <tr>\n",
       "      <th id=\"T_975cd_level0_row5\" class=\"row_heading level0 row5\" >Player combat (offensive)</th>\n",
       "      <td id=\"T_975cd_row5_col0\" class=\"data row5 col0\" >104.850000</td>\n",
       "      <td id=\"T_975cd_row5_col1\" class=\"data row5 col1\" >0.615934</td>\n",
       "    </tr>\n",
       "    <tr>\n",
       "      <th id=\"T_975cd_level0_row6\" class=\"row_heading level0 row6\" >Spells casted</th>\n",
       "      <td id=\"T_975cd_row6_col0\" class=\"data row6 col0\" >110.420000</td>\n",
       "      <td id=\"T_975cd_row6_col1\" class=\"data row6 col1\" >0.595531</td>\n",
       "    </tr>\n",
       "  </tbody>\n",
       "</table>\n"
      ],
      "text/plain": [
       "<pandas.io.formats.style.Styler at 0x1b1c7355f40>"
      ]
     },
     "execution_count": 80,
     "metadata": {},
     "output_type": "execute_result"
    }
   ],
   "source": [
    "# SVM\n",
    "svm_results.style.set_caption('SVM')"
   ]
  },
  {
   "cell_type": "markdown",
   "id": "d3c481bb",
   "metadata": {},
   "source": [
    "In all models except the decision tree model, the best features to predict the outcome of the game are sorted as follows:\n",
    "\n",
    "1. All features\n",
    "2. KDA/kill streaks\n",
    "3. Player combat (offensive and defensive)\n",
    "4. Player combat (defensive)\n",
    "5. Vision\n",
    "6. Player combat (offensive)\n",
    "7. Spells casted\n",
    "\n",
    "In the decision tree model, all features and KDA/kill streaks are consistent with other models in predicting the outcome of the game. Similarly, player combat (offensive) and spells casted are the worst in predicting the outcome of the game.\n",
    "\n",
    "This is very interesting because overall, League of Legends is a strategy game. The team that is able to gain the most advantages is more likely to win. The results show that aside from using all features, KDA/kill streaks is the best predictor of the outcome of the game. This makes sense because teams with more advantages are more likely to get kills, and kills allow the team to gain even more advantages. On the other hand, the combination of both offensive and defensive player combat statistics is also a rather decent predictor for the outcome of the game. We can also see that defensive player combat statistics is a better predictor than offensive player combat statistics. This may be due to the fact that I mainly play the support role, so I play a defensive style in combat."
   ]
  },
  {
   "cell_type": "markdown",
   "id": "c0b8c3cb",
   "metadata": {},
   "source": [
    "### Future work\n",
    "\n",
    "In the future, it would be interesting to narrow down the data even more and see how different sets of features for a specific character (champion) and role can affect the outcome of the game. It would also be interesting to explore how the accuracy these sets of features compare with different players (such as pro players)."
   ]
  }
 ],
 "metadata": {
  "kernelspec": {
   "display_name": "Python 3 (ipykernel)",
   "language": "python",
   "name": "python3"
  },
  "language_info": {
   "codemirror_mode": {
    "name": "ipython",
    "version": 3
   },
   "file_extension": ".py",
   "mimetype": "text/x-python",
   "name": "python",
   "nbconvert_exporter": "python",
   "pygments_lexer": "ipython3",
   "version": "3.9.12"
  }
 },
 "nbformat": 4,
 "nbformat_minor": 5
}
