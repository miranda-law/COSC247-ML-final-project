{
 "cells": [
  {
   "cell_type": "markdown",
   "id": "8f2bd048",
   "metadata": {},
   "source": [
    "# Predicting LoL victories using a player's game results"
   ]
  },
  {
   "cell_type": "markdown",
   "id": "c55e35e8",
   "metadata": {},
   "source": [
    "Description: In 3-5 paragraphs, describe what you are trying to accomplish and how you expect to accomplish it. Provide as many specific details as you can, within 3-5 paragraphs, about the data and algorithms that you will use, the outcomes that you will aim to achieve, and the ways that you will document your efforts and results.\n",
    "\n",
    "Status: In one paragraph, describe what you have completed for the project so far. In a second paragraph, describe what remains to be done.\n",
    "\n",
    "Code: Although it is not expected that your project be complete, or even close to complete, you must submit at least some code that runs, demonstrating the aspects of your project that have been completed. Include text that explains what we are seeing when we run your code, and how it relates to what we will see when your project is complete. If your project involves code that is not expected to be run from a Jupyter notebook (for example, code in .py files that you run from a command line on the Amherst cluster, or code written in a language other than Python), then you should explain this in a markdown cell and also explain how we can run your code; if possible, it would also be helpful to include in your notebook some version of your code that can run that context."
   ]
  },
  {
   "cell_type": "markdown",
   "id": "fb9911d1",
   "metadata": {},
   "source": [
    "### Description\n",
    "\n",
    "[League of Legends](https://en.wikipedia.org/wiki/League_of_Legends) is a multiple online battle arena (MOBA) video game that involves two teams of five players. Each team wins by destroying the enemy \"nexus\" located in the enemy base. Each player earns experience points (exp) and gold to give their character extra statistics in order to defeat the enemy. \n",
    "\n",
    "In this project, I will be classifying League of Legends games as either `win` or `loss` based on player game statistics at the end of the game, such as number of kills/deaths, gold earned, and longest time spent living. I will explore how different these different statistics in the game affect the outcome of these games. In particular, I will be looking at my own ranked solo/duo games under the summoner name `Mirinda`.  \n",
    "\n",
    "I will be obtaining my data through the [RiotAPI](https://developer.riotgames.com/apis). I will pull a list of matches and choose a particular player to view their statistics. Each match will have a list of 54 different statistics (see`df.columns`). The data collecting process will be discussed in the **Status** section below.\n",
    "\n",
    "I plan to train multiple classifications models and use different sets of features to see how they affect the outcome of the game. These classification models include the ones we have covered in class (e.g. Perceptron, Adaline GD, Adaline SGD, etc.) and other classification models that may seem interesting. I will record the accuracy of the trained models for different sets of features."
   ]
  },
  {
   "cell_type": "markdown",
   "id": "2a6a3b99",
   "metadata": {},
   "source": [
    "### Status\n",
    "\n",
    "So far I have obtained my data through the RiotAPI using a Python script with the `riotwatcher` package.  I pulled a list of 907 matches. Through each match, I iterated through each `participant` and pulled game results for `Mirinda`. I then wrote this data obtained onto a CSV file, so the data collecting process is now complete. As for the actual classification process, I have trained a Perceptron model using standard scalars and all possible features (see `df.columns`). \n",
    "\n",
    "I plan to train other classification models as well, and explore how using different sets of features can affect the accuracy of the models. I will be using models mentioned in the description above, and I still need to which features I would like to use."
   ]
  },
  {
   "cell_type": "code",
   "execution_count": 1,
   "id": "7fefbcaa",
   "metadata": {},
   "outputs": [],
   "source": [
    "# imports\n",
    "import csv \n",
    "import numpy as np\n",
    "import os\n",
    "import pandas as pd"
   ]
  },
  {
   "cell_type": "code",
   "execution_count": 2,
   "id": "2d32e476",
   "metadata": {},
   "outputs": [
    {
     "data": {
      "text/plain": [
       "Index(['assists', 'bountyLevel', 'champExperience', 'champLevel',\n",
       "       'consumablesPurchased', 'damageDealtToBuildings',\n",
       "       'damageDealtToObjectives', 'damageDealtToTurrets',\n",
       "       'damageSelfMitigated', 'deaths', 'detectorWardsPlaced', 'doubleKills',\n",
       "       'goldEarned', 'goldSpent', 'killingSprees', 'kills',\n",
       "       'largestCriticalStrike', 'largestKillingSpree', 'largestMultiKill',\n",
       "       'longestTimeSpentLiving', 'magicDamageDealt',\n",
       "       'magicDamageDealtToChampions', 'magicDamageTaken',\n",
       "       'neutralMinionsKilled', 'pentaKills', 'physicalDamageDealt',\n",
       "       'physicalDamageDealtToChampions', 'physicalDamageTaken', 'quadraKills',\n",
       "       'sightWardsBoughtInGame', 'spell1Casts', 'spell2Casts', 'spell3Casts',\n",
       "       'spell4Casts', 'timeCCingOthers', 'timePlayed', 'totalDamageDealt',\n",
       "       'totalDamageDealtToChampions', 'totalDamageShieldedOnTeammates',\n",
       "       'totalDamageTaken', 'totalHeal', 'totalHealsOnTeammates',\n",
       "       'totalMinionsKilled', 'totalTimeCCDealt', 'totalTimeSpentDead',\n",
       "       'totalUnitsHealed', 'tripleKills', 'trueDamageDealt',\n",
       "       'trueDamageDealtToChampions', 'trueDamageTaken', 'visionScore',\n",
       "       'visionWardsBoughtInGame', 'wardsKilled', 'wardsPlaced', 'win',\n",
       "       'matchID'],\n",
       "      dtype='object')"
      ]
     },
     "execution_count": 2,
     "metadata": {},
     "output_type": "execute_result"
    }
   ],
   "source": [
    "# read in data\n",
    "df = pd.read_csv('game-data.csv',\n",
    "                     encoding='utf-8')\n",
    "# possible features exluding `win` and `matchID`\n",
    "df.columns"
   ]
  },
  {
   "cell_type": "code",
   "execution_count": 3,
   "id": "61056364",
   "metadata": {},
   "outputs": [
    {
     "name": "stdout",
     "output_type": "stream",
     "text": [
      "Index(['assists', 'bountyLevel', 'champExperience', 'champLevel',\n",
      "       'consumablesPurchased', 'damageDealtToBuildings',\n",
      "       'damageDealtToObjectives', 'damageDealtToTurrets',\n",
      "       'damageSelfMitigated', 'deaths', 'detectorWardsPlaced', 'doubleKills',\n",
      "       'goldEarned', 'goldSpent', 'killingSprees', 'kills',\n",
      "       'largestCriticalStrike', 'largestKillingSpree', 'largestMultiKill',\n",
      "       'longestTimeSpentLiving', 'magicDamageDealt',\n",
      "       'magicDamageDealtToChampions', 'magicDamageTaken',\n",
      "       'neutralMinionsKilled', 'pentaKills', 'physicalDamageDealt',\n",
      "       'physicalDamageDealtToChampions', 'physicalDamageTaken', 'quadraKills',\n",
      "       'sightWardsBoughtInGame', 'spell1Casts', 'spell2Casts', 'spell3Casts',\n",
      "       'spell4Casts', 'timeCCingOthers', 'timePlayed', 'totalDamageDealt',\n",
      "       'totalDamageDealtToChampions', 'totalDamageShieldedOnTeammates',\n",
      "       'totalDamageTaken', 'totalHeal', 'totalHealsOnTeammates',\n",
      "       'totalMinionsKilled', 'totalTimeCCDealt', 'totalTimeSpentDead',\n",
      "       'totalUnitsHealed', 'tripleKills', 'trueDamageDealt',\n",
      "       'trueDamageDealtToChampions', 'trueDamageTaken', 'visionScore',\n",
      "       'visionWardsBoughtInGame', 'wardsKilled', 'wardsPlaced'],\n",
      "      dtype='object')\n"
     ]
    }
   ],
   "source": [
    "# set features: all\n",
    "X = df.iloc[:, :54]\n",
    "print(X.columns)\n",
    "X = np.array(X)\n",
    "\n",
    "# define classes: win/loss\n",
    "y = df.iloc[:, 54].values\n",
    "# True = 1, False = 0\n",
    "y = np.where(y, 1, 0)"
   ]
  },
  {
   "cell_type": "code",
   "execution_count": 4,
   "id": "7b2185b4",
   "metadata": {},
   "outputs": [],
   "source": [
    "from sklearn.model_selection import train_test_split\n",
    "\n",
    "# Split data into testing and training\n",
    "X_train, X_test, y_train, y_test = train_test_split(\n",
    "    X, y, test_size=0.3, random_state=1, stratify=y)"
   ]
  },
  {
   "cell_type": "code",
   "execution_count": 5,
   "id": "3f456b2f",
   "metadata": {},
   "outputs": [],
   "source": [
    "from sklearn.preprocessing import StandardScaler\n",
    "\n",
    "# Standardize training set\n",
    "sc = StandardScaler()\n",
    "sc.fit(X_train)\n",
    "X_train_std = sc.transform(X_train)\n",
    "X_test_std = sc.transform(X_test)"
   ]
  },
  {
   "cell_type": "code",
   "execution_count": 6,
   "id": "03ddabc5",
   "metadata": {},
   "outputs": [
    {
     "data": {
      "text/plain": [
       "Perceptron(eta0=0.1, random_state=1)"
      ]
     },
     "execution_count": 6,
     "metadata": {},
     "output_type": "execute_result"
    }
   ],
   "source": [
    "from sklearn.linear_model import Perceptron\n",
    "\n",
    "# Train Perceptron model\n",
    "ppn = Perceptron(eta0=0.1, random_state=1)\n",
    "ppn.fit(X_train_std, y_train)"
   ]
  },
  {
   "cell_type": "code",
   "execution_count": 7,
   "id": "60794428",
   "metadata": {},
   "outputs": [
    {
     "name": "stdout",
     "output_type": "stream",
     "text": [
      "Perceptron model using all features:\n",
      "Misclassified examples: 39\n",
      "Accuracy: 0.857\n"
     ]
    }
   ],
   "source": [
    "from sklearn.metrics import accuracy_score\n",
    "\n",
    "y_pred = ppn.predict(X_test_std)\n",
    "print(\"Perceptron model using all features:\")\n",
    "print('Misclassified examples: %d' % (y_test != y_pred).sum())\n",
    "print('Accuracy: %.3f' % accuracy_score(y_test, y_pred))"
   ]
  },
  {
   "cell_type": "code",
   "execution_count": null,
   "id": "6c7396b6",
   "metadata": {},
   "outputs": [],
   "source": []
  }
 ],
 "metadata": {
  "kernelspec": {
   "display_name": "Python 3 (ipykernel)",
   "language": "python",
   "name": "python3"
  },
  "language_info": {
   "codemirror_mode": {
    "name": "ipython",
    "version": 3
   },
   "file_extension": ".py",
   "mimetype": "text/x-python",
   "name": "python",
   "nbconvert_exporter": "python",
   "pygments_lexer": "ipython3",
   "version": "3.9.12"
  }
 },
 "nbformat": 4,
 "nbformat_minor": 5
}
